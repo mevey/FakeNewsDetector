{
 "cells": [
  {
   "cell_type": "markdown",
   "metadata": {},
   "source": [
    "Below is the model for Fake News detection over the Buzzfeed-Webis Fake News Corpus 2016. "
   ]
  },
  {
   "cell_type": "code",
   "execution_count": 1,
   "metadata": {
    "collapsed": true
   },
   "outputs": [],
   "source": [
    "from sklearn.feature_extraction.text import TfidfVectorizer\n",
    "from sklearn.model_selection import train_test_split\n",
    "from sklearn.linear_model import LogisticRegression\n",
    "from sklearn.metrics import classification_report\n",
    "from sklearn.metrics import confusion_matrix\n",
    "from nltk.tokenize import word_tokenize\n",
    "import numpy as np\n",
    "\n",
    "import xml.etree.ElementTree as ET\n",
    "import os\n",
    "from gensim.models import Word2Vec, KeyedVectors"
   ]
  },
  {
   "cell_type": "markdown",
   "metadata": {},
   "source": [
    "The first step is to download the Buzzfeed-Webis corpus, which is provided in the form of XML files. read_files will read each file and parse the XML tree to retrieve a tuple of the body of the text ('mainText') and the veracity label ('veracity')"
   ]
  },
  {
   "cell_type": "code",
   "execution_count": 2,
   "metadata": {
    "collapsed": true
   },
   "outputs": [],
   "source": [
    "def read_files():\n",
    "    \"\"\"\n",
    "    For each xml file return the main text and the veracity label\n",
    "    \"\"\"\n",
    "    path = 'data/train/'\n",
    "    for filename in os.listdir(path):\n",
    "        if not filename.endswith('.xml'): continue\n",
    "        xmlfile = os.path.join(path, filename)\n",
    "        tree = ET.parse(xmlfile)\n",
    "        yield (tree.find('mainText').text, tree.find('veracity').text)\n",
    "\n",
    "tokenize = lambda doc: doc.lower().split(\" \") # I use the NLTK version, maybe should take this out? "
   ]
  },
  {
   "cell_type": "markdown",
   "metadata": {},
   "source": [
    "We call this function to get a list of the main text of each article ('documents') as well as a matching list of the labels ('predictions')"
   ]
  },
  {
   "cell_type": "code",
   "execution_count": 3,
   "metadata": {
    "collapsed": true
   },
   "outputs": [],
   "source": [
    "documents = [f[0] for f in read_files() if f[0] is not None]\n",
    "possibilities = ['mixture of true and false', 'mostly false', 'no factual content', 'mostly true']\n",
    "predictions = [possibilities.index(f[1]) for f in read_files() if f[0] is not None]"
   ]
  },
  {
   "cell_type": "markdown",
   "metadata": {},
   "source": [
    "Now we load the Google News pre-trained word embeddings for use in our model. These embeddings are trained using a combination of CBOW and skip-grams over a corpus of over 100 billion words from Google News.  "
   ]
  },
  {
   "cell_type": "code",
   "execution_count": 4,
   "metadata": {
    "collapsed": true
   },
   "outputs": [],
   "source": [
    "file = 'data/GoogleNews-vectors-negative300.bin'\n",
    "embeddings = KeyedVectors.load_word2vec_format(file, binary=True)"
   ]
  },
  {
   "cell_type": "markdown",
   "metadata": {},
   "source": [
    "To represent entire articles using the Google News word embeddings, we replace each string with it's matching embedding and then taken the elementwise mean, max or min of the entire document. This takes a document of N words from being N separate vectors to being a single 1D vector (300 by 1)"
   ]
  },
  {
   "cell_type": "code",
   "execution_count": 5,
   "metadata": {
    "collapsed": true
   },
   "outputs": [],
   "source": [
    "# Note: Is there a more efficient way to do this? Looping might be slow for long articles\n",
    "def avg_docvec(docText,embeddings):\n",
    "    \"\"\"\n",
    "    This function converts the text of a document (input as a string) to word embeddings, then\n",
    "    takes the elementwise average of the embeddings to return a single vector.\n",
    "    \"\"\"\n",
    "    docVec = np.zeros(300) # Initialize array for the document\n",
    "    tokens = word_tokenize(docText) # Creates a list of word tokens (e.g. \"Test words\" -> ['Test', 'words'])\n",
    "    denominator = 0.0 # To take the average, will only count tokens for which we have embeddings in the total  \n",
    "    for token in tokens:\n",
    "        try:\n",
    "            v = embeddings[token]\n",
    "            np.add(docVec,v,out=docVec)\n",
    "            denominator += 1.0\n",
    "        except: # Ignore tokens that aren't in the Google News embeddings\n",
    "            continue\n",
    "    np.divide(docVec,denominator,out=docVec) \n",
    "    return docVec"
   ]
  },
  {
   "cell_type": "code",
   "execution_count": 38,
   "metadata": {},
   "outputs": [
    {
     "name": "stdout",
     "output_type": "stream",
     "text": [
      "(300,)\n"
     ]
    }
   ],
   "source": [
    "def max_docvec(docText,embeddings):\n",
    "    \"\"\"\n",
    "    Converts the text of a document (input as a string) to word embeddings, then takes the elementwise\n",
    "    max of the embeddings to return a single vector of the maximum elements.\n",
    "    \"\"\"\n",
    "    docVec = 0\n",
    "    tokens = word_tokenize(docText) # Creates a list of word tokens (e.g. \"Test words\" -> ['Test', 'words'])\n",
    "    startIndex = 0\n",
    "    for i in range(len(tokens)): # Initialize the doc vec as the first token that is in the embeddings\n",
    "        try:\n",
    "            v = embeddings[tokens[i]]\n",
    "            docVec = v\n",
    "            startIndex = i\n",
    "            break\n",
    "        except:\n",
    "            continue\n",
    "    \n",
    "    for token in tokens[startIndex:]:\n",
    "        try:\n",
    "            v = embeddings[token]\n",
    "            np.max(docVec,v,out=docVec)\n",
    "        except: # Ignore tokens that aren't in the Google News embeddings\n",
    "            continue\n",
    "    return docVec"
   ]
  },
  {
   "cell_type": "code",
   "execution_count": 41,
   "metadata": {},
   "outputs": [
    {
     "name": "stdout",
     "output_type": "stream",
     "text": [
      "(300,)\n"
     ]
    }
   ],
   "source": [
    "def min_docvec(docText,embeddings):\n",
    "    \"\"\"\n",
    "    Converts the text of a document (input as a string) to word embeddings, then takes the elementwise\n",
    "    min of the embeddings to return a single vector of the minimum elements.\n",
    "    \"\"\"\n",
    "    docVec = 0\n",
    "    tokens = word_tokenize(docText) # Creates a list of word tokens (e.g. \"Test words\" -> ['Test', 'words'])\n",
    "    startIndex = 0\n",
    "    for i in range(len(tokens)): # Initialize the doc vec as the first token that is in the embeddings\n",
    "        try:\n",
    "            v = embeddings[tokens[i]]\n",
    "            docVec = v\n",
    "            startIndex = i\n",
    "            break\n",
    "        except:\n",
    "            continue\n",
    "    \n",
    "    for token in tokens[startIndex:]: # Loop over words in the article, starting at first valid word\n",
    "        try:\n",
    "            v = embeddings[token]\n",
    "            np.min(docVec,v,out=docVec) # Only keep min elements\n",
    "        except: # Ignore tokens that aren't in the Google News embeddings\n",
    "            continue\n",
    "    return docVec"
   ]
  },
  {
   "cell_type": "code",
   "execution_count": 49,
   "metadata": {},
   "outputs": [],
   "source": [
    "def docs_to_matrix(documents,embeddings,method='avg'):\n",
    "    \"\"\"\n",
    "    Takes a list of document text strings and returns a matrix of document embeddings.\n",
    "    The method specifies how the word vectors are combined for the document: average is \n",
    "    elementwise average, min is elementwise min and max is elementwise max. \n",
    "    \"\"\"\n",
    "    matrix = []\n",
    "    for i in range(len(documents)):\n",
    "        vector = 0\n",
    "        if method.lower() == 'avg':\n",
    "            vector = avg_docvec(documents[i],embeddings)\n",
    "        elif method.lower() == 'min':\n",
    "            vector = min_docvec(documents[i],embeddings)\n",
    "        elif method.lower() == 'max':\n",
    "            vector = max_docvec(documents[i],embeddings)\n",
    "        else:\n",
    "            print(\"Please enter method argument as min, max or avg\")\n",
    "            return\n",
    "        if i == 0:\n",
    "            matrix = vector\n",
    "        else:\n",
    "            matrix = np.column_stack((matrix,vector)) # Concat all vectors into a matrix of order (300,N of docs)\n",
    "    matrix = matrix.reshape((len(documents),300)) # For sklearn, reshape the matrix into order (1604,300), so rows = docs\n",
    "    np.matrix(matrix)\n",
    "    return matrix\n",
    "\n",
    "articles_matrix = docs_to_matrix(documents,embeddings,'min')        "
   ]
  },
  {
   "cell_type": "markdown",
   "metadata": {},
   "source": [
    "Here we make the training and test datasets using the article representations and predictions. Then we create a logistic regression object, fit the model on the training data and check it on the test info"
   ]
  },
  {
   "cell_type": "code",
   "execution_count": 50,
   "metadata": {},
   "outputs": [
    {
     "data": {
      "text/plain": [
       "(1604, 300)"
      ]
     },
     "execution_count": 50,
     "metadata": {},
     "output_type": "execute_result"
    }
   ],
   "source": [
    "articles_matrix.shape\n",
    "# X_train, X_test, y_train, y_test = train_test_split(articles_matrix, predictions, test_size = .3, random_state=25)\n",
    "# LogReg = LogisticRegression()\n",
    "# LogReg.fit(X_train, y_train)\n",
    "# y_pred = LogReg.predict(X_test)"
   ]
  },
  {
   "cell_type": "code",
   "execution_count": 35,
   "metadata": {},
   "outputs": [
    {
     "name": "stdout",
     "output_type": "stream",
     "text": [
      "[3 3 3 3 3 3 3 3 3 3 3 3 3 3 3 3 3 3 3 3 3 3 3 3 3 3 3 3 3 3 3 3 3 3 3 3 3\n",
      " 3 3 3 3 3 3 3 3 3 3 3 3 3 3 3 3 3 3 3 3 3 3 3 3 3 3 3 3 3 3 3 3 3 3 3 3 3\n",
      " 3 3 3 3 3 3 3 3 3 3 3 3 3 3 3 3 3 3 3 3 3 3 3 3 3 3 3 3 3 3 3 3 3 3 3 3 3\n",
      " 3 3 3 3 3 3 3 3 3 3 3 3 3 3 3 3 3 3 3 3 3 3 3 3 3 3 3 3 3 3 3 3 3 3 3 3 3\n",
      " 3 3 3 3 3 3 3 3 3 3 3 3 3 3 3 3 3 3 3 3 3 3 3 3 3 3 3 3 3 3 3 3 3 3 3 3 3\n",
      " 3 3 3 3 3 3 3 3 3 3 3 3 3 3 3 3 3 3 3 3 3 3 3 3 3 3 3 3 3 3 3 3 3 3 3 3 3\n",
      " 3 3 3 3 3 3 3 3 3 3 3 3 3 3 3 3 3 3 3 3 3 3 3 3 3 3 3 3 3 3 3 3 3 3 3 3 3\n",
      " 3 3 3 3 3 3 3 3 3 3 3 3 3 3 3 3 3 3 3 3 3 3 3 3 3 3 3 3 3 3 3 3 3 3 3 3 3\n",
      " 3 3 3 3 3 3 3 3 3 3 3 3 3 3 3 3 3 3 3 3 3 3 3 3 3 3 3 3 3 3 3 3 3 3 3 3 3\n",
      " 3 3 3 3 3 3 3 3 3 3 3 3 3 3 3 3 3 3 3 3 3 3 3 3 3 3 3 3 3 3 3 3 3 3 3 3 3\n",
      " 3 3 3 3 3 3 3 3 3 3 3 3 3 3 3 3 3 3 3 3 3 3 3 3 3 3 3 3 3 3 3 3 3 3 3 3 3\n",
      " 3 3 3 3 3 3 3 3 3 3 3 3 3 3 3 3 3 3 3 3 3 3 3 3 3 3 3 3 3 3 3 3 3 3 3 3 3\n",
      " 3 3 3 3 3 3 3 3 3 3 3 3 3 3 3 3 3 3 3 3 3 3 3 3 3 3 3 3 3 3 3 3 3 3 3 3 3\n",
      " 3]\n"
     ]
    }
   ],
   "source": [
    "print(y_pred)"
   ]
  },
  {
   "cell_type": "code",
   "execution_count": 25,
   "metadata": {},
   "outputs": [
    {
     "name": "stdout",
     "output_type": "stream",
     "text": [
      "[3 3 3 3 3 3 3 3 3 3 3 3 3 3 3 3 3 3 3 3 3 3 3 3 3 3 3 3 3 3 3 3 3 3 3 3 3\n",
      " 3 3 3 3 3 3 3 3 3 3 3 3 3 3 3 3 3 3 3 3 3 3 3 3 3 3 3 3 3 3 3 3 3 3 3 3 3\n",
      " 3 3 3 3 3 3 3 3 3 3 3 3 3 3 3 3 3 3 3 3 3 3 3 3 3 3 3 3 3 3 3 3 3 3 3 3 3\n",
      " 3 3 3 3 3 3 3 3 3 3 3 3 3 3 3 3 3 3 3 3 3 3 3 3 3 3 3 3 3 3 3 3 3 3 3 3 3\n",
      " 3 3 3 3 3 3 3 3 3 3 3 3 3 3 3 3 3 3 3 3 3 3 3 3 3 3 3 3 3 3 3 3 3 3 3 3 3\n",
      " 3 3 3 3 3 3 3 3 3 3 3 3 3 3 3 3 3 3 3 3 3 3 3 3 3 3 3 3 3 3 3 3 3 3 3 3 3\n",
      " 3 3 3 3 3 3 3 3 3 3 3 3 3 3 3 3 3 3 3 3 3 3 3 3 3 3 3 3 3 3 3 3 3 3 3 3 3\n",
      " 3 3 3 3 3 3 3 3 3 3 3 3 3 3 3 3 3 3 3 3 3 3 3 3 3 3 3 3 3 3 3 3 3 3 3 3 3\n",
      " 3 3 3 3 3 3 3 3 3 3 3 3 3 3 3 3 3 3 3 3 3 3 3 3 3 3 3 3 3 3 3 3 3 3 3 3 3\n",
      " 3 3 3 3 3 3 3 3 3 3 3 3 3 3 3 3 3 3 3 3 3 3 3 3 3 3 3 3 3 3 3 3 3 3 3 3 3\n",
      " 3 3 3 3 3 3 3 3 3 3 3 3 3 3 3 3 3 3 3 3 3 3 3 3 3 3 3 3 3 3 3 3 3 3 3 3 3\n",
      " 3 3 3 3 3 3 3 3 3 3 3 3 3 3 3 3 3 3 3 3 3 3 3 3 3 3 3 3 3 3 3 3 3 3 3 3 3\n",
      " 3 3 3 3 3 3 3 3 3 3 3 3 3 3 3 3 3 3 3 3 3 3 3 3 3 3 3 3 3 3 3 3 3 3 3 3 3\n",
      " 3]\n"
     ]
    }
   ],
   "source": [
    "# TF-IDF - effectively a majority classifier\n",
    "\n",
    "#Calculate TF-IDF over the main text of each article, creating a tf-idf matrix representation of all articles\n",
    "sklearn_tfidf = TfidfVectorizer(norm='l2',min_df=0, use_idf=True, smooth_idf=False, sublinear_tf=True, tokenizer=tokenize)\n",
    "sklearn_representation = sklearn_tfidf.fit_transform(documents)\n",
    "\n",
    "# Splits data into training and test\n",
    "X_train, X_test, y_train, y_test = train_test_split(sklearn_representation, predictions, test_size = .3, random_state=25)\n",
    "LogReg = LogisticRegression()\n",
    "LogReg.fit(X_train, y_train)\n",
    "y_pred = LogReg.predict(X_test)\n",
    "print(y_pred)\n"
   ]
  },
  {
   "cell_type": "code",
   "execution_count": null,
   "metadata": {
    "collapsed": true
   },
   "outputs": [],
   "source": []
  }
 ],
 "metadata": {
  "kernelspec": {
   "display_name": "Python 3",
   "language": "python",
   "name": "python3"
  },
  "language_info": {
   "codemirror_mode": {
    "name": "ipython",
    "version": 3
   },
   "file_extension": ".py",
   "mimetype": "text/x-python",
   "name": "python",
   "nbconvert_exporter": "python",
   "pygments_lexer": "ipython3",
   "version": "3.6.1"
  }
 },
 "nbformat": 4,
 "nbformat_minor": 2
}
