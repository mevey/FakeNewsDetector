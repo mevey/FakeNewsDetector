{
 "cells": [
  {
   "cell_type": "markdown",
   "metadata": {},
   "source": [
    "Below is the model for Fake News detection over the Buzzfeed-Webis Fake News Corpus 2016. "
   ]
  },
  {
   "cell_type": "code",
   "execution_count": 188,
   "metadata": {},
   "outputs": [],
   "source": [
    "from sklearn.feature_extraction.text import TfidfVectorizer\n",
    "from sklearn.model_selection import train_test_split, GridSearchCV\n",
    "from sklearn.linear_model import LogisticRegression\n",
    "from sklearn.metrics import classification_report\n",
    "from sklearn.metrics import confusion_matrix\n",
    "from nltk.tokenize import word_tokenize\n",
    "import numpy as np\n",
    "\n",
    "import xml.etree.ElementTree as ET\n",
    "import os\n",
    "from gensim.models import Word2Vec, KeyedVectors\n",
    "from keras.models import Sequential\n",
    "from keras.layers import Dense, Flatten\n",
    "from keras.preprocessing.text import Tokenizer\n",
    "from keras.preprocessing.sequence import pad_sequences\n"
   ]
  },
  {
   "cell_type": "markdown",
   "metadata": {},
   "source": [
    "The first step is to download the Buzzfeed-Webis corpus, which is provided in the form of XML files. read_files will read each file and parse the XML tree to retrieve a tuple of the body of the text ('mainText') and the veracity label ('veracity')"
   ]
  },
  {
   "cell_type": "code",
   "execution_count": 147,
   "metadata": {
    "collapsed": true
   },
   "outputs": [],
   "source": [
    "def read_files(cols):\n",
    "    \"\"\"\n",
    "    For each xml file return a matrix of values asked for\n",
    "    \"\"\"\n",
    "    path = 'data/train/'\n",
    "    possibilities = ['mixture of true and false', 'mostly false', 'no factual content', 'mostly true']\n",
    "    for filename in os.listdir(path):\n",
    "        data_row = []\n",
    "        if not filename.endswith('.xml'): continue\n",
    "        xmlfile = os.path.join(path, filename)\n",
    "        tree = ET.parse(xmlfile)\n",
    "        if cols == \"mainText\":\n",
    "            if tree.find(\"mainText\").text:\n",
    "                yield tree.find(\"mainText\").text\n",
    "            else:\n",
    "                yield ''\n",
    "        elif cols == \"veracity\":\n",
    "            v = possibilities.index(tree.find(\"veracity\").text)\n",
    "            yield v\n",
    "        else:\n",
    "            for col in cols:\n",
    "                try:\n",
    "                    data_row.append(int(tree.find(col).text))\n",
    "                except:\n",
    "                    data_row.append(0)\n",
    "            yield data_row"
   ]
  },
  {
   "cell_type": "markdown",
   "metadata": {},
   "source": [
    "We call this function to get a list of the main text of each article ('documents') as well as a matching list of the labels ('predictions')"
   ]
  },
  {
   "cell_type": "code",
   "execution_count": 201,
   "metadata": {},
   "outputs": [],
   "source": [
    "def feature_matrix(cols):\n",
    "    data = []\n",
    "    for row in read_files(cols):\n",
    "        data.append(row)\n",
    "    return np.array(data)\n",
    "\n",
    "def get_document_text():\n",
    "    data = []\n",
    "    for row in read_files(\"mainText\"):\n",
    "        data.append(row)\n",
    "    return data\n",
    "\n",
    "def get_veracity():\n",
    "    data = []\n",
    "    for row in read_files(\"veracity\"):\n",
    "        data.append(row)\n",
    "    return data\n",
    "\n",
    "documents = get_document_text()\n",
    "predictions = get_veracity()"
   ]
  },
  {
   "cell_type": "markdown",
   "metadata": {},
   "source": [
    "Now we load the Google News pre-trained word embeddings for use in our model. These embeddings are trained using a combination of CBOW and skip-grams over a corpus of over 100 billion words from Google News.  "
   ]
  },
  {
   "cell_type": "code",
   "execution_count": 149,
   "metadata": {
    "collapsed": true
   },
   "outputs": [],
   "source": [
    "file = 'data/GoogleNews-vectors-negative300.bin'\n",
    "embeddings = KeyedVectors.load_word2vec_format(file, binary=True)"
   ]
  },
  {
   "cell_type": "markdown",
   "metadata": {},
   "source": [
    "To represent entire articles using the Google News word embeddings, we replace each string with it's matching embedding and then taken the elementwise mean, max or min of the entire document. This takes a document of N words from being N separate vectors to being a single 1D vector (300 by 1)"
   ]
  },
  {
   "cell_type": "code",
   "execution_count": 150,
   "metadata": {
    "collapsed": true
   },
   "outputs": [],
   "source": [
    "# Note: Is there a more efficient way to do this? Looping might be slow for long articles\n",
    "def avg_docvec(docText,embeddings):\n",
    "    \"\"\"\n",
    "    This function converts the text of a document (input as a string) to word embeddings, then\n",
    "    takes the elementwise average of the embeddings to return a single vector.\n",
    "    \"\"\"\n",
    "    docVec = np.zeros(300) # Initialize array for the document\n",
    "    tokens = word_tokenize(docText) # Creates a list of word tokens (e.g. \"Test words\" -> ['Test', 'words'])\n",
    "    denominator = 0.0 # To take the average, will only count tokens for which we have embeddings in the total  \n",
    "    for token in tokens:\n",
    "        try:\n",
    "            v = embeddings[token]\n",
    "            np.add(docVec,v,out=docVec)\n",
    "            denominator += 1.0\n",
    "        except: # Ignore tokens that aren't in the Google News embeddings\n",
    "            continue\n",
    "    np.divide(docVec,denominator,out=docVec) \n",
    "    return docVec"
   ]
  },
  {
   "cell_type": "code",
   "execution_count": 151,
   "metadata": {
    "collapsed": true
   },
   "outputs": [],
   "source": [
    "def max_docvec(docText,embeddings):\n",
    "    \"\"\"\n",
    "    Converts the text of a document (input as a string) to word embeddings, then takes the elementwise\n",
    "    max of the embeddings to return a single vector of the maximum elements.\n",
    "    \"\"\"\n",
    "    docVec = 0\n",
    "    tokens = word_tokenize(docText) # Creates a list of word tokens (e.g. \"Test words\" -> ['Test', 'words'])\n",
    "    startIndex = 0\n",
    "    for i in range(len(tokens)): # Initialize the doc vec as the first token that is in the embeddings\n",
    "        try:\n",
    "            v = embeddings[tokens[i]]\n",
    "            docVec = v\n",
    "            startIndex = i\n",
    "            break\n",
    "        except:\n",
    "            continue\n",
    "    \n",
    "    for token in tokens[startIndex:]:\n",
    "        try:\n",
    "            v = embeddings[token]\n",
    "            np.max(docVec,v,out=docVec)\n",
    "        except: # Ignore tokens that aren't in the Google News embeddings\n",
    "            continue\n",
    "    return docVec"
   ]
  },
  {
   "cell_type": "code",
   "execution_count": 152,
   "metadata": {
    "collapsed": true
   },
   "outputs": [],
   "source": [
    "def min_docvec(docText,embeddings):\n",
    "    \"\"\"\n",
    "    Converts the text of a document (input as a string) to word embeddings, then takes the elementwise\n",
    "    min of the embeddings to return a single vector of the minimum elements.\n",
    "    \"\"\"\n",
    "    docVec = 0\n",
    "    tokens = word_tokenize(docText) # Creates a list of word tokens (e.g. \"Test words\" -> ['Test', 'words'])\n",
    "    startIndex = 0\n",
    "    for i in range(len(tokens)): # Initialize the doc vec as the first token that is in the embeddings\n",
    "        try:\n",
    "            v = embeddings[tokens[i]]\n",
    "            docVec = v\n",
    "            startIndex = i\n",
    "            break\n",
    "        except:\n",
    "            continue\n",
    "    \n",
    "    for token in tokens[startIndex:]: # Loop over words in the article, starting at first valid word\n",
    "        try:\n",
    "            v = embeddings[token]\n",
    "            np.min(docVec,v,out=docVec) # Only keep min elements\n",
    "        except: # Ignore tokens that aren't in the Google News embeddings\n",
    "            continue\n",
    "    return docVec"
   ]
  },
  {
   "cell_type": "code",
   "execution_count": 185,
   "metadata": {
    "collapsed": true
   },
   "outputs": [],
   "source": [
    "def docs_to_matrix(documents,embeddings,method='avg'):\n",
    "    \"\"\"\n",
    "    Takes a list of document text strings and returns a matrix of document embeddings.\n",
    "    The method specifies how the word vectors are combined for the document: average is \n",
    "    element-wise average, min is element-wise min and max is element-wise max. \n",
    "    \"\"\"\n",
    "    matrix = []\n",
    "    for i in range(len(documents)):\n",
    "        vector = 0\n",
    "        if method.lower() == 'avg':\n",
    "            vector = avg_docvec(documents[i],embeddings)\n",
    "        elif method.lower() == 'min':\n",
    "            vector = min_docvec(documents[i],embeddings)\n",
    "        elif method.lower() == 'max':\n",
    "            vector = max_docvec(documents[i],embeddings)\n",
    "        else:\n",
    "            print(\"Please enter method argument as min, max or avg\")\n",
    "            return\n",
    "        if i == 0:\n",
    "            matrix = vector\n",
    "        else:\n",
    "            matrix = np.column_stack((matrix,vector)) # Concat all vectors into a matrix of order (300,N of docs)\n",
    "    matrix = matrix.reshape((len(documents),300)) # For sklearn, reshape the matrix into order (N of docs,300), so rows = docs\n",
    "    return matrix\n",
    "\n",
    "articles_matrix = docs_to_matrix(documents,embeddings,'avg')        "
   ]
  },
  {
   "cell_type": "markdown",
   "metadata": {},
   "source": [
    "Here we make the training and test datasets using the article representations and predictions. Then we create a logistic regression object, fit the model on the training data and check it on the test info.\n",
    "\n",
    "#### Notes on testing: \n",
    "* A majority classifier gets outcome Precision = 0.62, Recall = 0.78, F = 0.69. Unregularized tf-idf acts as a majority classifier.\n",
    "* Using regularized tf-idf logreg (C = 100), Precision/Recall/F =  0.82, 0.80, 0.73. This is no longer a majority classifier. \n",
    "* Representing articles as elementwise average of the word embeddings does not change the model from being a majority classifier, even when using extreme regularization (C = .0001). This applies for min and max document vectors as well. "
   ]
  },
  {
   "cell_type": "code",
   "execution_count": 186,
   "metadata": {},
   "outputs": [],
   "source": [
    "# Use the TF-IDF representation of each article as a feature matrix\n",
    "# sklearn_tfidf = TfidfVectorizer(norm='l2',min_df=0, use_idf=True, smooth_idf=False, sublinear_tf=True, tokenizer=tokenize)\n",
    "# articles_matrix = sklearn_tfidf.fit_transform(documents)\n",
    "# X_train, X_test, y_train, y_test = train_test_split(articles_matrix, predictions, test_size = .3, random_state=25)\n",
    "\n",
    "# Use the combination of pre-trained word embeddings in each article as a feature matrix\n",
    "X_train, X_test, y_train, y_test = train_test_split(articles_matrix, predictions, test_size = .3, random_state=25)"
   ]
  },
  {
   "cell_type": "code",
   "execution_count": 181,
   "metadata": {},
   "outputs": [
    {
     "name": "stdout",
     "output_type": "stream",
     "text": [
      "0.776292335116\n",
      "LogisticRegression(C=1e-05, class_weight=None, dual=False, fit_intercept=True,\n",
      "          intercept_scaling=1, max_iter=100, multi_class='ovr', n_jobs=1,\n",
      "          penalty='l2', random_state=None, solver='liblinear', tol=0.0001,\n",
      "          verbose=0, warm_start=False)\n",
      "[3 3 3 3 3 3 3 3 3 3 3 3 3 3 3 3 3 3 3 3 3 3 3 3 3 3 3 3 3 3 3 3 3 3 3 3 3\n",
      " 3 3 3 3 3 3 3 3 3 3 3 3 3 3 3 3 3 3 3 3 3 3 3 3 3 3 3 3 3 3 3 3 3 3 3 3 3\n",
      " 3 3 3 3 3 3 3 3 3 3 3 3 3 3 3 3 3 3 3 3 3 3 3 3 3 3 3 3 3 3 3 3 3 3 3 3 3\n",
      " 3 3 3 3 3 3 3 3 3 3 3 3 3 3 3 3 3 3 3 3 3 3 3 3 3 3 3 3 3 3 3 3 3 3 3 3 3\n",
      " 3 3 3 3 3 3 3 3 3 3 3 3 3 3 3 3 3 3 3 3 3 3 3 3 3 3 3 3 3 3 3 3 3 3 3 3 3\n",
      " 3 3 3 3 3 3 3 3 3 3 3 3 3 3 3 3 3 3 3 3 3 3 3 3 3 3 3 3 3 3 3 3 3 3 3 3 3\n",
      " 3 3 3 3 3 3 3 3 3 3 3 3 3 3 3 3 3 3 3 3 3 3 3 3 3 3 3 3 3 3 3 3 3 3 3 3 3\n",
      " 3 3 3 3 3 3 3 3 3 3 3 3 3 3 3 3 3 3 3 3 3 3 3 3 3 3 3 3 3 3 3 3 3 3 3 3 3\n",
      " 3 3 3 3 3 3 3 3 3 3 3 3 3 3 3 3 3 3 3 3 3 3 3 3 3 3 3 3 3 3 3 3 3 3 3 3 3\n",
      " 3 3 3 3 3 3 3 3 3 3 3 3 3 3 3 3 3 3 3 3 3 3 3 3 3 3 3 3 3 3 3 3 3 3 3 3 3\n",
      " 3 3 3 3 3 3 3 3 3 3 3 3 3 3 3 3 3 3 3 3 3 3 3 3 3 3 3 3 3 3 3 3 3 3 3 3 3\n",
      " 3 3 3 3 3 3 3 3 3 3 3 3 3 3 3 3 3 3 3 3 3 3 3 3 3 3 3 3 3 3 3 3 3 3 3 3 3\n",
      " 3 3 3 3 3 3 3 3 3 3 3 3 3 3 3 3 3 3 3 3 3 3 3 3 3 3 3 3 3 3 3 3 3 3 3 3 3\n",
      " 3]\n"
     ]
    }
   ],
   "source": [
    "# Logistic Regression - try sklearn grid search \n",
    "params = {'C':[.00001,.0001,.001,.01,.1,.2,.5,.8,1,2,5,10,100]} # Dict of values to search over for regularization strength\n",
    "logreg = LogisticRegression(penalty='l2')\n",
    "best_logreg = GridSearchCV(logreg,params)\n",
    "best_logreg.fit(X_train,y_train)\n",
    "print(best_logreg.best_score_)\n",
    "logreg = best_logreg.best_estimator_\n",
    "print(logreg)\n",
    "y_pred = logreg.predict(X_test)\n",
    "print(y_pred)"
   ]
  },
  {
   "cell_type": "markdown",
   "metadata": {},
   "source": [
    "#### Model Evaluation: \n",
    "Here we evaluate the effectiveness of our model using a confusion matrix, precision, recall and F1-score"
   ]
  },
  {
   "cell_type": "code",
   "execution_count": 184,
   "metadata": {
    "scrolled": true
   },
   "outputs": [
    {
     "name": "stdout",
     "output_type": "stream",
     "text": [
      "[[  0   0   0  57]\n",
      " [  0   0   0  30]\n",
      " [  0   0   0  17]\n",
      " [  0   0   0 378]]\n",
      "             precision    recall  f1-score   support\n",
      "\n",
      "          0       0.00      0.00      0.00        57\n",
      "          1       0.00      0.00      0.00        30\n",
      "          2       0.00      0.00      0.00        17\n",
      "          3       0.78      1.00      0.88       378\n",
      "\n",
      "avg / total       0.62      0.78      0.69       482\n",
      "\n"
     ]
    },
    {
     "name": "stderr",
     "output_type": "stream",
     "text": [
      "/Users/Tim/anaconda/lib/python3.6/site-packages/sklearn/metrics/classification.py:1135: UndefinedMetricWarning: Precision and F-score are ill-defined and being set to 0.0 in labels with no predicted samples.\n",
      "  'precision', 'predicted', average, warn_for)\n"
     ]
    }
   ],
   "source": [
    "confusion_matrix = confusion_matrix(y_test, y_pred)\n",
    "print(confusion_matrix)\n",
    "print(classification_report(y_test, y_pred))"
   ]
  },
  {
   "cell_type": "code",
   "execution_count": 202,
   "metadata": {},
   "outputs": [],
   "source": [
    "# CNN - Second Implementation (Medium post)\n",
    "MAX_NB_WORDS = 60000 # Semi-arbitrary, not sure how to tune this. Vocab is a little more than 60,000 words\n",
    "import numpy as np\n",
    "from keras.preprocessing.text import Tokenizer\n",
    "from keras.preprocessing.sequence import pad_sequences\n",
    "from keras.models import Sequential\n",
    "from keras.layers import Dense\n",
    "from keras.layers import Flatten\n",
    "from keras.layers import Embedding\n",
    "\n",
    "    "
   ]
  },
  {
   "cell_type": "code",
   "execution_count": 205,
   "metadata": {},
   "outputs": [],
   "source": [
    "# Prepare tokenizer\n",
    "t = Tokenizer()\n",
    "t.fit_on_texts(documents)\n",
    "vocab_size = len(t.word_index) + 1\n",
    "\n",
    "# integer encode the documents\n",
    "encoded_docs = t.texts_to_sequences(documents)\n",
    "\n",
    "# pad documents to a max length of 4 words\n",
    "max_length = 700 # Semi-arbitrary, not sure how to tune this. Articles range from 6 - 6500 words with mean of 659\n",
    "padded_docs = pad_sequences(encoded_docs, maxlen=max_length, padding='post')\n",
    "labels = predictions # Re-use the predictions we generated earlier\n",
    "\n",
    "# Note I skip a step here - embeddings already loaded into memory as KeyedVectors above\n",
    "\n",
    "# create a weight matrix for words in training docs\n",
    "embedding_matrix = np.zeros((vocab_size, 300))\n",
    "for word, i in t.word_index.items():\n",
    "    embedding_vector = None\n",
    "    try:\n",
    "        embedding_vector = embeddings[word] # Get the vector for a given word\n",
    "    except:\n",
    "        embedding_vector = None\n",
    "    if embedding_vector is not None:\n",
    "        embedding_matrix[i] = embedding_vector\n",
    "        "
   ]
  },
  {
   "cell_type": "code",
   "execution_count": 208,
   "metadata": {},
   "outputs": [
    {
     "name": "stdout",
     "output_type": "stream",
     "text": [
      "_________________________________________________________________\n",
      "Layer (type)                 Output Shape              Param #   \n",
      "=================================================================\n",
      "embedding_4 (Embedding)      (None, 700, 300)          11065200  \n",
      "_________________________________________________________________\n",
      "flatten_4 (Flatten)          (None, 210000)            0         \n",
      "_________________________________________________________________\n",
      "dense_19 (Dense)             (None, 1)                 210001    \n",
      "=================================================================\n",
      "Total params: 11,275,201\n",
      "Trainable params: 210,001\n",
      "Non-trainable params: 11,065,200\n",
      "_________________________________________________________________\n",
      "None\n",
      "Accuracy: 5.174564\n"
     ]
    }
   ],
   "source": [
    "# define model\n",
    "model = Sequential()\n",
    "e = Embedding(vocab_size, 300, weights=[embedding_matrix], input_length=max_length, trainable=False) \n",
    "model.add(e)\n",
    "model.add(Flatten())\n",
    "model.add(Dense(1, activation='sigmoid'))\n",
    "# compile the model\n",
    "model.compile(optimizer='adam', loss='binary_crossentropy', metrics=['acc'])\n",
    "# summarize the model\n",
    "print(model.summary())\n",
    "# fit the model\n",
    "model.fit(padded_docs, labels, epochs=100, verbose=0)\n",
    "# evaluate the model\n",
    "loss, accuracy = model.evaluate(padded_docs, labels, verbose=0)\n",
    "print('Accuracy: %f' % (accuracy*100))        \n"
   ]
  },
  {
   "cell_type": "code",
   "execution_count": null,
   "metadata": {
    "collapsed": true
   },
   "outputs": [],
   "source": []
  }
 ],
 "metadata": {
  "kernelspec": {
   "display_name": "Python 3",
   "language": "python",
   "name": "python3"
  },
  "language_info": {
   "codemirror_mode": {
    "name": "ipython",
    "version": 3
   },
   "file_extension": ".py",
   "mimetype": "text/x-python",
   "name": "python",
   "nbconvert_exporter": "python",
   "pygments_lexer": "ipython3",
   "version": "3.6.1"
  }
 },
 "nbformat": 4,
 "nbformat_minor": 2
}
