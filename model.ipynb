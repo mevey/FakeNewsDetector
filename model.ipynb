{
 "cells": [
  {
   "cell_type": "markdown",
   "metadata": {},
   "source": [
    "Below is the model for Fake News detection over the Buzzfeed-Webis Fake News Corpus 2016. "
   ]
  },
  {
   "cell_type": "code",
   "execution_count": 144,
   "metadata": {},
   "outputs": [],
   "source": [
    "from sklearn.feature_extraction.text import TfidfVectorizer\n",
    "from sklearn.model_selection import train_test_split\n",
    "from sklearn.linear_model import LogisticRegression\n",
    "from sklearn.metrics import classification_report\n",
    "from sklearn.metrics import confusion_matrix\n",
    "from nltk.tokenize import word_tokenize\n",
    "import numpy as np\n",
    "\n",
    "import xml.etree.ElementTree as ET\n",
    "import os\n",
    "from gensim.models import Word2Vec, KeyedVectors\n",
    "from keras.models import Sequential\n",
    "from keras.layers import Dense, Flatten"
   ]
  },
  {
   "cell_type": "markdown",
   "metadata": {},
   "source": [
    "The first step is to download the Buzzfeed-Webis corpus, which is provided in the form of XML files. read_files will read each file and parse the XML tree to retrieve a tuple of the body of the text ('mainText') and the veracity label ('veracity')"
   ]
  },
  {
   "cell_type": "code",
   "execution_count": 113,
   "metadata": {
    "collapsed": true
   },
   "outputs": [],
   "source": [
    "def read_files(cols):\n",
    "    \"\"\"\n",
    "    For each xml file return a matrix of values asked for\n",
    "    \"\"\"\n",
    "    path = 'data/train/'\n",
    "    possibilities = ['mixture of true and false', 'mostly false', 'no factual content', 'mostly true']\n",
    "    for filename in os.listdir(path):\n",
    "        data_row = []\n",
    "        if not filename.endswith('.xml'): continue\n",
    "        xmlfile = os.path.join(path, filename)\n",
    "        tree = ET.parse(xmlfile)\n",
    "        if cols == \"mainText\":\n",
    "            if tree.find(\"mainText\").text:\n",
    "                yield tree.find(\"mainText\").text\n",
    "            else:\n",
    "                yield ''\n",
    "        elif cols == \"veracity\":\n",
    "            v = possibilities.index(tree.find(\"veracity\").text)\n",
    "            yield v\n",
    "        else:\n",
    "            for col in cols:\n",
    "                try:\n",
    "                    data_row.append(int(tree.find(col).text))\n",
    "                except:\n",
    "                    data_row.append(0)\n",
    "            yield data_row"
   ]
  },
  {
   "cell_type": "markdown",
   "metadata": {},
   "source": [
    "We call this function to get a list of the main text of each article ('documents') as well as a matching list of the labels ('predictions')"
   ]
  },
  {
   "cell_type": "code",
   "execution_count": 118,
   "metadata": {},
   "outputs": [],
   "source": [
    "def feature_matrix(cols):\n",
    "    data = []\n",
    "    for row in read_files(cols):\n",
    "        data.append(row)\n",
    "    return np.array(data)\n",
    "\n",
    "def get_document_text():\n",
    "    data = []\n",
    "    for row in read_files(\"mainText\"):\n",
    "        data.append(row)\n",
    "    return data\n",
    "\n",
    "def get_veracity():\n",
    "    data = []\n",
    "    for row in read_files(\"veracity\"):\n",
    "        data.append(row)\n",
    "    return data\n",
    "\n",
    "documents = get_document_text()\n",
    "predictions = get_veracity()"
   ]
  },
  {
   "cell_type": "markdown",
   "metadata": {},
   "source": [
    "Now we load the Google News pre-trained word embeddings for use in our model. These embeddings are trained using a combination of CBOW and skip-grams over a corpus of over 100 billion words from Google News.  "
   ]
  },
  {
   "cell_type": "code",
   "execution_count": 119,
   "metadata": {
    "collapsed": true
   },
   "outputs": [],
   "source": [
    "file = 'data/GoogleNews-vectors-negative300.bin'\n",
    "embeddings = KeyedVectors.load_word2vec_format(file, binary=True)"
   ]
  },
  {
   "cell_type": "markdown",
   "metadata": {},
   "source": [
    "To represent entire articles using the Google News word embeddings, we replace each string with it's matching embedding and then taken the elementwise mean, max or min of the entire document. This takes a document of N words from being N separate vectors to being a single 1D vector (300 by 1)"
   ]
  },
  {
   "cell_type": "code",
   "execution_count": 120,
   "metadata": {
    "collapsed": true
   },
   "outputs": [],
   "source": [
    "# Note: Is there a more efficient way to do this? Looping might be slow for long articles\n",
    "def avg_docvec(docText,embeddings):\n",
    "    \"\"\"\n",
    "    This function converts the text of a document (input as a string) to word embeddings, then\n",
    "    takes the elementwise average of the embeddings to return a single vector.\n",
    "    \"\"\"\n",
    "    docVec = np.zeros(300) # Initialize array for the document\n",
    "    tokens = word_tokenize(docText) # Creates a list of word tokens (e.g. \"Test words\" -> ['Test', 'words'])\n",
    "    denominator = 0.0 # To take the average, will only count tokens for which we have embeddings in the total  \n",
    "    for token in tokens:\n",
    "        try:\n",
    "            v = embeddings[token]\n",
    "            np.add(docVec,v,out=docVec)\n",
    "            denominator += 1.0\n",
    "        except: # Ignore tokens that aren't in the Google News embeddings\n",
    "            continue\n",
    "    np.divide(docVec,denominator,out=docVec) \n",
    "    return docVec"
   ]
  },
  {
   "cell_type": "code",
   "execution_count": 121,
   "metadata": {
    "collapsed": true
   },
   "outputs": [],
   "source": [
    "def max_docvec(docText,embeddings):\n",
    "    \"\"\"\n",
    "    Converts the text of a document (input as a string) to word embeddings, then takes the elementwise\n",
    "    max of the embeddings to return a single vector of the maximum elements.\n",
    "    \"\"\"\n",
    "    docVec = 0\n",
    "    tokens = word_tokenize(docText) # Creates a list of word tokens (e.g. \"Test words\" -> ['Test', 'words'])\n",
    "    startIndex = 0\n",
    "    for i in range(len(tokens)): # Initialize the doc vec as the first token that is in the embeddings\n",
    "        try:\n",
    "            v = embeddings[tokens[i]]\n",
    "            docVec = v\n",
    "            startIndex = i\n",
    "            break\n",
    "        except:\n",
    "            continue\n",
    "    \n",
    "    for token in tokens[startIndex:]:\n",
    "        try:\n",
    "            v = embeddings[token]\n",
    "            np.max(docVec,v,out=docVec)\n",
    "        except: # Ignore tokens that aren't in the Google News embeddings\n",
    "            continue\n",
    "    return docVec"
   ]
  },
  {
   "cell_type": "code",
   "execution_count": 122,
   "metadata": {
    "collapsed": true
   },
   "outputs": [],
   "source": [
    "def min_docvec(docText,embeddings):\n",
    "    \"\"\"\n",
    "    Converts the text of a document (input as a string) to word embeddings, then takes the elementwise\n",
    "    min of the embeddings to return a single vector of the minimum elements.\n",
    "    \"\"\"\n",
    "    docVec = 0\n",
    "    tokens = word_tokenize(docText) # Creates a list of word tokens (e.g. \"Test words\" -> ['Test', 'words'])\n",
    "    startIndex = 0\n",
    "    for i in range(len(tokens)): # Initialize the doc vec as the first token that is in the embeddings\n",
    "        try:\n",
    "            v = embeddings[tokens[i]]\n",
    "            docVec = v\n",
    "            startIndex = i\n",
    "            break\n",
    "        except:\n",
    "            continue\n",
    "    \n",
    "    for token in tokens[startIndex:]: # Loop over words in the article, starting at first valid word\n",
    "        try:\n",
    "            v = embeddings[token]\n",
    "            np.min(docVec,v,out=docVec) # Only keep min elements\n",
    "        except: # Ignore tokens that aren't in the Google News embeddings\n",
    "            continue\n",
    "    return docVec"
   ]
  },
  {
   "cell_type": "code",
   "execution_count": 123,
   "metadata": {
    "collapsed": true
   },
   "outputs": [],
   "source": [
    "def docs_to_matrix(documents,embeddings,method='avg'):\n",
    "    \"\"\"\n",
    "    Takes a list of document text strings and returns a matrix of document embeddings.\n",
    "    The method specifies how the word vectors are combined for the document: average is \n",
    "    element-wise average, min is element-wise min and max is element-wise max. \n",
    "    \"\"\"\n",
    "    matrix = []\n",
    "    for i in range(len(documents)):\n",
    "        vector = 0\n",
    "        if method.lower() == 'avg':\n",
    "            vector = avg_docvec(documents[i],embeddings)\n",
    "        elif method.lower() == 'min':\n",
    "            vector = min_docvec(documents[i],embeddings)\n",
    "        elif method.lower() == 'max':\n",
    "            vector = max_docvec(documents[i],embeddings)\n",
    "        else:\n",
    "            print(\"Please enter method argument as min, max or avg\")\n",
    "            return\n",
    "        if i == 0:\n",
    "            matrix = vector\n",
    "        else:\n",
    "            matrix = np.column_stack((matrix,vector)) # Concat all vectors into a matrix of order (300,N of docs)\n",
    "    matrix = matrix.reshape((len(documents),300)) # For sklearn, reshape the matrix into order (N of docs,300), so rows = docs\n",
    "    return matrix\n",
    "\n",
    "articles_matrix = docs_to_matrix(documents,embeddings,'avg')        "
   ]
  },
  {
   "cell_type": "markdown",
   "metadata": {},
   "source": [
    "Here we make the training and test datasets using the article representations and predictions. Then we create a logistic regression object, fit the model on the training data and check it on the test info.\n",
    "\n",
    "#### Notes on testing: \n",
    "* Using the tf-idf functions, we get Precision = 0.62, Recall = 0.78, F = 0.69. The predicitions are essentially a majority calssifier. \n",
    "* Representing articles as elementwise average of the word embeddings does not change the model from being a majority classifier\n",
    "* Using min doc vectors causes marginal changes in the model predictions - in particular, more articles are classified as \"mixture of true and false\". Generally, though, it makes worse predictions. Precision = .61, Recall = .75, F = .68. \n",
    "* Using max doc vectors gets Precision = 0.61, Recall = 0.75, F = 0.68, exactly the same as max"
   ]
  },
  {
   "cell_type": "code",
   "execution_count": 124,
   "metadata": {},
   "outputs": [
    {
     "name": "stdout",
     "output_type": "stream",
     "text": [
      "(1122, 300) 1122\n"
     ]
    }
   ],
   "source": [
    "X_train, X_test, y_train, y_test = train_test_split(articles_matrix, predictions, test_size = .3, random_state=25)"
   ]
  },
  {
   "cell_type": "code",
   "execution_count": 125,
   "metadata": {},
   "outputs": [
    {
     "name": "stdout",
     "output_type": "stream",
     "text": [
      "Epoch 1/70\n",
      "1122/1122 [==============================] - 2s 1ms/step - loss: -0.9455 - acc: 0.0455\n",
      "Epoch 2/70\n",
      "1122/1122 [==============================] - 0s 226us/step - loss: -8.4374 - acc: 0.0463\n",
      "Epoch 3/70\n",
      "1122/1122 [==============================] - 0s 269us/step - loss: -16.6212 - acc: 0.0463\n",
      "Epoch 4/70\n",
      "1122/1122 [==============================] - 0s 214us/step - loss: -20.3535 - acc: 0.0463\n",
      "Epoch 5/70\n",
      "1122/1122 [==============================] - 0s 198us/step - loss: -22.0414 - acc: 0.0463\n",
      "Epoch 6/70\n",
      "1122/1122 [==============================] - 0s 207us/step - loss: -22.9185 - acc: 0.0463\n",
      "Epoch 7/70\n",
      "1122/1122 [==============================] - 0s 187us/step - loss: -23.2570 - acc: 0.0463\n",
      "Epoch 8/70\n",
      "1122/1122 [==============================] - 0s 165us/step - loss: -23.2633 - acc: 0.0463\n",
      "Epoch 9/70\n",
      "1122/1122 [==============================] - 0s 212us/step - loss: -23.2636 - acc: 0.0463\n",
      "Epoch 10/70\n",
      "1122/1122 [==============================] - 0s 210us/step - loss: -23.2647 - acc: 0.0463\n",
      "Epoch 11/70\n",
      "1122/1122 [==============================] - 0s 224us/step - loss: -23.2641 - acc: 0.0463\n",
      "Epoch 12/70\n",
      "1122/1122 [==============================] - 0s 201us/step - loss: -23.2649 - acc: 0.0463\n",
      "Epoch 13/70\n",
      "1122/1122 [==============================] - 0s 205us/step - loss: -23.2654 - acc: 0.0463\n",
      "Epoch 14/70\n",
      "1122/1122 [==============================] - 0s 211us/step - loss: -23.2658 - acc: 0.0463\n",
      "Epoch 15/70\n",
      "1122/1122 [==============================] - 0s 216us/step - loss: -23.2671 - acc: 0.0463\n",
      "Epoch 16/70\n",
      "1122/1122 [==============================] - 0s 257us/step - loss: -23.2672 - acc: 0.0463\n",
      "Epoch 17/70\n",
      "1122/1122 [==============================] - 0s 293us/step - loss: -23.2686 - acc: 0.0463\n",
      "Epoch 18/70\n",
      "1122/1122 [==============================] - 0s 268us/step - loss: -23.2688 - acc: 0.0463\n",
      "Epoch 19/70\n",
      "1122/1122 [==============================] - 0s 239us/step - loss: -23.2685 - acc: 0.0463\n",
      "Epoch 20/70\n",
      "1122/1122 [==============================] - 0s 225us/step - loss: -23.2704 - acc: 0.0463\n",
      "Epoch 21/70\n",
      "1122/1122 [==============================] - 0s 195us/step - loss: -23.2707 - acc: 0.0463\n",
      "Epoch 22/70\n",
      "1122/1122 [==============================] - 0s 182us/step - loss: -23.2719 - acc: 0.0463\n",
      "Epoch 23/70\n",
      "1122/1122 [==============================] - 0s 191us/step - loss: -23.2728 - acc: 0.0463\n",
      "Epoch 24/70\n",
      "1122/1122 [==============================] - 0s 184us/step - loss: -23.2723 - acc: 0.0463\n",
      "Epoch 25/70\n",
      "1122/1122 [==============================] - 0s 268us/step - loss: -23.2742 - acc: 0.0463\n",
      "Epoch 26/70\n",
      "1122/1122 [==============================] - 0s 290us/step - loss: -23.2736 - acc: 0.0463\n",
      "Epoch 27/70\n",
      "1122/1122 [==============================] - 0s 216us/step - loss: -23.2760 - acc: 0.0463\n",
      "Epoch 28/70\n",
      "1122/1122 [==============================] - 0s 205us/step - loss: -23.2770 - acc: 0.0463\n",
      "Epoch 29/70\n",
      "1122/1122 [==============================] - 0s 195us/step - loss: -23.2772 - acc: 0.0463\n",
      "Epoch 30/70\n",
      "1122/1122 [==============================] - 0s 236us/step - loss: -23.2776 - acc: 0.0463\n",
      "Epoch 31/70\n",
      "1122/1122 [==============================] - 0s 251us/step - loss: -23.2780 - acc: 0.0463\n",
      "Epoch 32/70\n",
      "1122/1122 [==============================] - 0s 209us/step - loss: -23.2796 - acc: 0.0463\n",
      "Epoch 33/70\n",
      "1122/1122 [==============================] - 0s 249us/step - loss: -23.2805 - acc: 0.0463\n",
      "Epoch 34/70\n",
      "1122/1122 [==============================] - 0s 252us/step - loss: -23.2810 - acc: 0.0463\n",
      "Epoch 35/70\n",
      "1122/1122 [==============================] - 0s 213us/step - loss: -23.2820 - acc: 0.0463\n",
      "Epoch 36/70\n",
      "1122/1122 [==============================] - 0s 224us/step - loss: -23.2829 - acc: 0.0463\n",
      "Epoch 37/70\n",
      "1122/1122 [==============================] - 0s 199us/step - loss: -23.2836 - acc: 0.0463\n",
      "Epoch 38/70\n",
      "1122/1122 [==============================] - 0s 214us/step - loss: -23.2850 - acc: 0.0463\n",
      "Epoch 39/70\n",
      "1122/1122 [==============================] - 0s 218us/step - loss: -23.2860 - acc: 0.0463\n",
      "Epoch 40/70\n",
      "1122/1122 [==============================] - 0s 253us/step - loss: -23.2868 - acc: 0.0463\n",
      "Epoch 41/70\n",
      "1122/1122 [==============================] - 0s 276us/step - loss: -23.2875 - acc: 0.0463\n",
      "Epoch 42/70\n",
      "1122/1122 [==============================] - 0s 216us/step - loss: -23.2877 - acc: 0.0463\n",
      "Epoch 43/70\n",
      "1122/1122 [==============================] - 0s 231us/step - loss: -23.2897 - acc: 0.0463\n",
      "Epoch 44/70\n",
      "1122/1122 [==============================] - 0s 252us/step - loss: -23.2890 - acc: 0.0463\n",
      "Epoch 45/70\n",
      "1122/1122 [==============================] - 0s 237us/step - loss: -23.2909 - acc: 0.0463\n",
      "Epoch 46/70\n",
      "1122/1122 [==============================] - 0s 244us/step - loss: -23.2920 - acc: 0.0463\n",
      "Epoch 47/70\n",
      "1122/1122 [==============================] - 0s 198us/step - loss: -23.2923 - acc: 0.0463\n",
      "Epoch 48/70\n",
      "1122/1122 [==============================] - 0s 171us/step - loss: -23.2935 - acc: 0.0463\n",
      "Epoch 49/70\n",
      "1122/1122 [==============================] - 0s 173us/step - loss: -23.2929 - acc: 0.0463\n",
      "Epoch 50/70\n",
      "1122/1122 [==============================] - 0s 183us/step - loss: -23.2954 - acc: 0.0463\n",
      "Epoch 51/70\n",
      "1122/1122 [==============================] - 0s 196us/step - loss: -23.2962 - acc: 0.0463\n",
      "Epoch 52/70\n",
      "1122/1122 [==============================] - 0s 197us/step - loss: -23.2969 - acc: 0.0463\n",
      "Epoch 53/70\n",
      "1122/1122 [==============================] - 0s 197us/step - loss: -23.2981 - acc: 0.0463\n",
      "Epoch 54/70\n",
      "1122/1122 [==============================] - 0s 199us/step - loss: -23.2990 - acc: 0.0463\n",
      "Epoch 55/70\n",
      "1122/1122 [==============================] - 0s 157us/step - loss: -23.3008 - acc: 0.0463\n",
      "Epoch 56/70\n",
      "1122/1122 [==============================] - 0s 184us/step - loss: -23.3016 - acc: 0.0463\n",
      "Epoch 57/70\n",
      "1122/1122 [==============================] - 0s 202us/step - loss: -23.3024 - acc: 0.0463\n",
      "Epoch 58/70\n",
      "1122/1122 [==============================] - 0s 237us/step - loss: -23.3043 - acc: 0.0463\n",
      "Epoch 59/70\n",
      "1122/1122 [==============================] - 0s 198us/step - loss: -23.3046 - acc: 0.0463\n",
      "Epoch 60/70\n",
      "1122/1122 [==============================] - 0s 208us/step - loss: -23.3062 - acc: 0.0463\n",
      "Epoch 61/70\n",
      "1122/1122 [==============================] - 0s 212us/step - loss: -23.3079 - acc: 0.0463\n",
      "Epoch 62/70\n",
      "1122/1122 [==============================] - 0s 194us/step - loss: -23.3096 - acc: 0.0463\n",
      "Epoch 63/70\n",
      "1122/1122 [==============================] - 0s 163us/step - loss: -23.3121 - acc: 0.0463\n",
      "Epoch 64/70\n",
      "1122/1122 [==============================] - 0s 195us/step - loss: -23.3119 - acc: 0.0463\n",
      "Epoch 65/70\n",
      "1122/1122 [==============================] - 0s 216us/step - loss: -23.3138 - acc: 0.0463\n",
      "Epoch 66/70\n",
      "1122/1122 [==============================] - 0s 236us/step - loss: -23.3156 - acc: 0.0463\n",
      "Epoch 67/70\n",
      "1122/1122 [==============================] - 0s 232us/step - loss: -23.3147 - acc: 0.0463\n",
      "Epoch 68/70\n",
      "1122/1122 [==============================] - 0s 189us/step - loss: -23.3174 - acc: 0.0463\n",
      "Epoch 69/70\n",
      "1122/1122 [==============================] - 0s 167us/step - loss: -23.3199 - acc: 0.0463\n",
      "Epoch 70/70\n",
      "1122/1122 [==============================] - 0s 176us/step - loss: -23.3204 - acc: 0.0463\n",
      "1122/1122 [==============================] - 0s 95us/step\n",
      "\n",
      "acc: 4.63%\n"
     ]
    }
   ],
   "source": [
    "# # CNN\n",
    "X = X_train\n",
    "Y = np.reshape(y_train, (len(y_train), ))\n",
    "\n",
    "# model\n",
    "model = Sequential()\n",
    "model.add(Dense(12, input_dim=X_train.shape[1], activation='relu'))\n",
    "model.add(Dense(8, activation='relu'))\n",
    "model.add(Dense(1, activation='sigmoid'))\n",
    "\n",
    "# compile model\n",
    "model.compile(loss='binary_crossentropy', optimizer='adam', metrics=['accuracy'])\n",
    "\n",
    "# Fit the model\n",
    "model.fit(X, Y, epochs=70, batch_size=10)\n",
    "\n",
    "# evaluate the model\n",
    "scores = model.evaluate(X, Y)\n",
    "print(\"\\n%s: %.2f%%\" % (model.metrics_names[1], scores[1]*100))"
   ]
  },
  {
   "cell_type": "code",
   "execution_count": 142,
   "metadata": {},
   "outputs": [],
   "source": [
    "# Logistic Regression - try sklearn\n",
    "LogReg = LogisticRegression()\n",
    "LogReg.fit(X_train, y_train)\n",
    "y_pred = LogReg.predict(X_test)"
   ]
  },
  {
   "cell_type": "code",
   "execution_count": 64,
   "metadata": {
    "collapsed": true
   },
   "outputs": [],
   "source": [
    "# TF-IDF - effectively a majority classifier\n",
    "\n",
    "#Calculate TF-IDF over the main text of each article, creating a tf-idf matrix representation of all articles\n",
    "sklearn_tfidf = TfidfVectorizer(norm='l2',min_df=0, use_idf=True, smooth_idf=False, sublinear_tf=True, tokenizer=tokenize)\n",
    "sklearn_representation = sklearn_tfidf.fit_transform(documents)\n",
    "\n",
    "# Splits data into training and test\n",
    "X_train, X_test, y_train, y_test = train_test_split(sklearn_representation, predictions, test_size = .3, random_state=25)\n",
    "LogReg = LogisticRegression()\n",
    "LogReg.fit(X_train, y_train)\n",
    "y_pred = LogReg.predict(X_test)\n"
   ]
  },
  {
   "cell_type": "markdown",
   "metadata": {},
   "source": [
    "#### Model Evaluation: \n",
    "Here we evaluate the effectiveness of our model using a confusion matrix"
   ]
  },
  {
   "cell_type": "code",
   "execution_count": 145,
   "metadata": {},
   "outputs": [
    {
     "name": "stdout",
     "output_type": "stream",
     "text": [
      "[[  0   0   0  57]\n",
      " [  0   0   0  30]\n",
      " [  0   0   0  17]\n",
      " [  0   0   0 378]]\n",
      "             precision    recall  f1-score   support\n",
      "\n",
      "          0       0.00      0.00      0.00        57\n",
      "          1       0.00      0.00      0.00        30\n",
      "          2       0.00      0.00      0.00        17\n",
      "          3       0.78      1.00      0.88       378\n",
      "\n",
      "avg / total       0.62      0.78      0.69       482\n",
      "\n"
     ]
    },
    {
     "name": "stderr",
     "output_type": "stream",
     "text": [
      "/Users/Tim/anaconda/lib/python3.6/site-packages/sklearn/metrics/classification.py:1135: UndefinedMetricWarning: Precision and F-score are ill-defined and being set to 0.0 in labels with no predicted samples.\n",
      "  'precision', 'predicted', average, warn_for)\n"
     ]
    }
   ],
   "source": [
    "confusion_matrix = confusion_matrix(y_test, y_pred)\n",
    "print(confusion_matrix)\n",
    "print(classification_report(y_test, y_pred))"
   ]
  },
  {
   "cell_type": "code",
   "execution_count": null,
   "metadata": {
    "collapsed": true
   },
   "outputs": [],
   "source": []
  }
 ],
 "metadata": {
  "kernelspec": {
   "display_name": "Python 3",
   "language": "python",
   "name": "python3"
  },
  "language_info": {
   "codemirror_mode": {
    "name": "ipython",
    "version": 3
   },
   "file_extension": ".py",
   "mimetype": "text/x-python",
   "name": "python",
   "nbconvert_exporter": "python",
   "pygments_lexer": "ipython3",
   "version": "3.6.1"
  }
 },
 "nbformat": 4,
 "nbformat_minor": 2
}
