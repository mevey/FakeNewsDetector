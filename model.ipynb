{
 "cells": [
  {
   "cell_type": "markdown",
   "metadata": {},
   "source": [
    "Below is the model for Fake News detection over the Buzzfeed-Webis Fake News Corpus 2016. "
   ]
  },
  {
   "cell_type": "code",
   "execution_count": 3,
   "metadata": {},
   "outputs": [],
   "source": [
    "from sklearn.feature_extraction.text import TfidfVectorizer\n",
    "from sklearn.model_selection import train_test_split\n",
    "from sklearn.linear_model import LogisticRegression\n",
    "from sklearn.metrics import classification_report\n",
    "from sklearn.metrics import confusion_matrix\n",
    "import xml.etree.ElementTree as ET\n",
    "import os\n",
    "from gensim.models import Word2Vec, KeyedVectors"
   ]
  },
  {
   "cell_type": "markdown",
   "metadata": {},
   "source": [
    "The first step is to download the Buzzfeed-Webis corpus, which is provided in the form of XML files. read_files will read each file and parse the XML tree to retrieve a tuple of the body of the text ('mainText') and the veracity label ('veracity')"
   ]
  },
  {
   "cell_type": "code",
   "execution_count": 4,
   "metadata": {
    "collapsed": true
   },
   "outputs": [],
   "source": [
    "def read_files():\n",
    "    \"\"\"\n",
    "    For each xml file return the main text and the veracity label\n",
    "    \"\"\"\n",
    "    path = 'data/train/'\n",
    "    for filename in os.listdir(path):\n",
    "        if not filename.endswith('.xml'): continue\n",
    "        xmlfile = os.path.join(path, filename)\n",
    "        tree = ET.parse(xmlfile)\n",
    "        yield (tree.find('mainText').text, tree.find('veracity').text)\n",
    "\n",
    "tokenize = lambda doc: doc.lower().split(\" \")"
   ]
  },
  {
   "cell_type": "markdown",
   "metadata": {},
   "source": [
    "We call this function to get a list of the main text of each article ('documents') as well as a matching list of the labels ('predictions')"
   ]
  },
  {
   "cell_type": "code",
   "execution_count": 5,
   "metadata": {
    "collapsed": true
   },
   "outputs": [],
   "source": [
    "documents = [f[0] for f in read_files() if f[0] is not None]\n",
    "possibilities = ['mixture of true and false', 'mostly false', 'no factual content', 'mostly true']\n",
    "predictions = [possibilities.index(f[1]) for f in read_files() if f[0] is not None]"
   ]
  },
  {
   "cell_type": "markdown",
   "metadata": {},
   "source": [
    "Now we load the Google News pre-trained word embeddings for use in our model. These embeddings are trained using a combination of CBOW and skip-grams over a corpus of over 100 billion words from Google News.  "
   ]
  },
  {
   "cell_type": "code",
   "execution_count": 7,
   "metadata": {},
   "outputs": [
    {
     "data": {
      "text/plain": [
       "array([ -2.55126953e-02,   7.75146484e-03,  -6.12792969e-02,\n",
       "        -1.47705078e-02,   9.42382812e-02,  -1.07910156e-01,\n",
       "         5.02929688e-02,   1.84570312e-01,   3.08593750e-01,\n",
       "        -3.56445312e-02,   5.59082031e-02,  -1.61132812e-01,\n",
       "        -2.73437500e-01,   1.00097656e-01,  -2.48046875e-01,\n",
       "         8.93554688e-02,   1.13525391e-02,  -2.41699219e-02,\n",
       "         5.15136719e-02,  -3.39843750e-01,  -1.58203125e-01,\n",
       "        -2.14843750e-01,   4.64843750e-01,   3.92578125e-01,\n",
       "        -7.41577148e-03,   3.06640625e-01,  -2.08984375e-01,\n",
       "        -4.85839844e-02,   2.55859375e-01,  -2.48046875e-01,\n",
       "        -9.42382812e-02,   1.94335938e-01,  -3.63281250e-01,\n",
       "        -1.16699219e-01,   7.86132812e-02,   5.15136719e-02,\n",
       "         1.76757812e-01,   4.34570312e-02,  -2.69531250e-01,\n",
       "        -2.27539062e-01,   2.22656250e-01,  -1.78710938e-01,\n",
       "         2.75390625e-01,   5.07812500e-01,  -3.22265625e-01,\n",
       "        -2.22656250e-01,   1.91406250e-01,   2.43164062e-01,\n",
       "         2.79541016e-02,   2.39257812e-01,  -1.15234375e-01,\n",
       "         2.24609375e-01,  -6.12792969e-02,  -6.68334961e-03,\n",
       "         2.29492188e-01,   1.65039062e-01,   2.50244141e-02,\n",
       "        -3.16406250e-01,  -1.63085938e-01,  -4.25781250e-01,\n",
       "         4.64843750e-01,   3.10546875e-01,  -2.04086304e-04,\n",
       "         1.55273438e-01,   6.28906250e-01,   4.83398438e-02,\n",
       "        -8.98437500e-02,  -1.81640625e-01,  -3.57421875e-01,\n",
       "        -2.02148438e-01,   7.66601562e-02,  -3.04687500e-01,\n",
       "         4.62890625e-01,   2.33154297e-02,   4.25781250e-01,\n",
       "        -1.14746094e-01,   9.22851562e-02,  -1.05468750e-01,\n",
       "         2.98828125e-01,   2.83203125e-01,  -3.43750000e-01,\n",
       "        -2.35351562e-01,  -3.84765625e-01,   2.65502930e-03,\n",
       "         4.34570312e-02,  -1.27929688e-01,   2.94921875e-01,\n",
       "         4.02343750e-01,  -1.28906250e-01,  -1.98242188e-01,\n",
       "        -2.58789062e-02,   2.39257812e-02,  -5.82031250e-01,\n",
       "        -2.71484375e-01,   1.37695312e-01,  -2.73437500e-01,\n",
       "         1.73339844e-02,   2.24609375e-02,   2.50000000e-01,\n",
       "         3.68652344e-02,  -1.41601562e-01,  -3.51562500e-01,\n",
       "         2.71606445e-03,  -1.10839844e-01,   3.06640625e-01,\n",
       "         1.26953125e-01,   1.11328125e-01,  -1.90429688e-02,\n",
       "        -7.71484375e-02,  -3.39843750e-01,  -8.30078125e-02,\n",
       "        -2.23388672e-02,   3.19824219e-02,   4.90722656e-02,\n",
       "         2.79296875e-01,  -1.56250000e-01,   1.91406250e-01,\n",
       "        -1.29882812e-01,   3.00781250e-01,   6.62231445e-03,\n",
       "        -2.28515625e-01,  -3.57421875e-01,  -6.93359375e-02,\n",
       "         2.18505859e-02,   1.97265625e-01,  -1.70898438e-01,\n",
       "         9.52148438e-03,   9.96093750e-02,   1.72851562e-01,\n",
       "         3.58886719e-02,   1.28906250e-01,   3.14941406e-02,\n",
       "         7.51953125e-02,   5.41992188e-02,   1.40625000e-01,\n",
       "        -4.36401367e-03,  -6.00585938e-02,   9.13085938e-02,\n",
       "        -6.83593750e-02,  -1.85546875e-01,  -4.60815430e-03,\n",
       "        -4.88281250e-01,   8.77380371e-04,  -5.12695312e-02,\n",
       "         3.37890625e-01,   2.24609375e-01,  -9.81445312e-02,\n",
       "         2.69775391e-02,   7.56835938e-02,   1.52343750e-01,\n",
       "        -1.40625000e-01,  -7.12890625e-02,   1.35742188e-01,\n",
       "        -3.51562500e-01,  -1.04003906e-01,   4.53125000e-01,\n",
       "         1.57226562e-01,  -9.37500000e-02,   3.32031250e-01,\n",
       "         1.00097656e-01,  -1.15234375e-01,  -9.22851562e-02,\n",
       "         1.34765625e-01,   3.10546875e-01,  -1.44531250e-01,\n",
       "        -4.39453125e-01,   2.42187500e-01,  -4.37011719e-02,\n",
       "         5.27343750e-01,   4.41406250e-01,  -6.59179688e-02,\n",
       "        -2.73437500e-01,  -1.02050781e-01,  -1.80664062e-01,\n",
       "        -3.06640625e-01,   2.13623047e-02,   1.19628906e-01,\n",
       "        -1.01562500e-01,  -6.34765625e-02,   2.26562500e-01,\n",
       "         3.79943848e-03,   2.25830078e-02,  -3.00781250e-01,\n",
       "         1.94335938e-01,   9.42382812e-02,  -9.27734375e-02,\n",
       "        -3.73535156e-02,  -6.17675781e-02,   1.13281250e-01,\n",
       "        -3.20312500e-01,   8.88671875e-02,   1.37695312e-01,\n",
       "         3.37890625e-01,   1.18652344e-01,  -2.42187500e-01,\n",
       "         1.09863281e-01,  -2.30468750e-01,   1.15722656e-01,\n",
       "         1.34765625e-01,  -1.83593750e-01,   1.65039062e-01,\n",
       "        -1.15966797e-02,   2.96630859e-02,  -5.54199219e-02,\n",
       "        -2.51953125e-01,  -1.25000000e-01,  -4.99725342e-04,\n",
       "         2.75390625e-01,  -1.19140625e-01,   9.86328125e-02,\n",
       "        -4.78515625e-02,  -1.67968750e-01,   7.17163086e-03,\n",
       "        -6.78710938e-02,   3.24218750e-01,   9.03320312e-02,\n",
       "        -3.16406250e-01,   3.57421875e-01,   4.02343750e-01,\n",
       "        -9.91210938e-02,  -1.51367188e-01,   3.80859375e-01,\n",
       "        -3.24218750e-01,  -1.43051147e-04,   1.64062500e-01,\n",
       "         4.10156250e-02,   3.65234375e-01,   2.04101562e-01,\n",
       "         1.72119141e-02,  -2.67578125e-01,  -2.39257812e-01,\n",
       "        -1.04003906e-01,  -5.41992188e-02,  -4.19921875e-01,\n",
       "         1.81640625e-01,   8.88671875e-02,   2.22656250e-01,\n",
       "        -1.26953125e-01,   2.50000000e-01,   6.54296875e-02,\n",
       "         1.15234375e-01,  -2.49023438e-01,  -2.59765625e-01,\n",
       "        -1.41601562e-01,   1.43554688e-01,  -2.51953125e-01,\n",
       "         2.69531250e-01,   3.75000000e-01,   2.19726562e-02,\n",
       "        -1.31835938e-01,  -1.48437500e-01,   1.02539062e-01,\n",
       "         2.31445312e-01,  -1.79687500e-01,   6.25000000e-02,\n",
       "        -1.10351562e-01,   2.18750000e-01,  -1.33056641e-02,\n",
       "        -1.32812500e-01,  -2.75390625e-01,   2.55859375e-01,\n",
       "         2.40234375e-01,  -1.71875000e-01,  -3.63769531e-02,\n",
       "         3.84765625e-01,   2.41210938e-01,  -3.45703125e-01,\n",
       "        -7.61718750e-02,   2.87109375e-01,  -1.76757812e-01,\n",
       "        -1.59179688e-01,   2.37304688e-01,   6.68945312e-02,\n",
       "        -1.18652344e-01,   1.13525391e-02,   6.10351562e-02,\n",
       "         2.81250000e-01,  -1.39648438e-01,  -1.43432617e-02,\n",
       "         1.33789062e-01,   2.96875000e-01,  -1.31988525e-03,\n",
       "         1.71875000e-01,  -2.20703125e-01,  -1.32812500e-01,\n",
       "         4.22363281e-02,  -3.63281250e-01,  -1.58691406e-03,\n",
       "        -1.32812500e-01,  -3.78417969e-02,   8.69140625e-02,\n",
       "        -2.30468750e-01,  -2.63671875e-01,  -1.13769531e-01,\n",
       "         3.71093750e-01,   6.93359375e-02,   1.65039062e-01,\n",
       "        -1.41601562e-01,  -1.51367188e-01,  -2.30468750e-01], dtype=float32)"
      ]
     },
     "execution_count": 7,
     "metadata": {},
     "output_type": "execute_result"
    }
   ],
   "source": [
    "embeddings = KeyedVectors.load_word2vec_format('data/GoogleNews-vectors-negative300.bin', binary=True)"
   ]
  },
  {
   "cell_type": "code",
   "execution_count": null,
   "metadata": {
    "collapsed": true
   },
   "outputs": [],
   "source": [
    "#Calculate TF-IDF over the main text of each article, creating vector representations of them\n",
    "sklearn_tfidf = TfidfVectorizer(norm='l2',min_df=0, use_idf=True, smooth_idf=False, sublinear_tf=True, tokenizer=tokenize)\n",
    "sklearn_representation = sklearn_tfidf.fit_transform(documents)"
   ]
  },
  {
   "cell_type": "code",
   "execution_count": null,
   "metadata": {
    "collapsed": true
   },
   "outputs": [],
   "source": [
    "# Splits data into training and test\n",
    "X_train, X_test, y_train, y_test = train_test_split(sklearn_representation, predictions, test_size = .3, random_state=25)\n",
    "LogReg = LogisticRegression()\n",
    "LogReg.fit(X_train, y_train)\n",
    "y_pred = LogReg.predict(X_test)\n",
    "print(y_pred)\n"
   ]
  }
 ],
 "metadata": {
  "kernelspec": {
   "display_name": "Python 3",
   "language": "python",
   "name": "python3"
  },
  "language_info": {
   "codemirror_mode": {
    "name": "ipython",
    "version": 3
   },
   "file_extension": ".py",
   "mimetype": "text/x-python",
   "name": "python",
   "nbconvert_exporter": "python",
   "pygments_lexer": "ipython3",
   "version": "3.6.1"
  }
 },
 "nbformat": 4,
 "nbformat_minor": 2
}
